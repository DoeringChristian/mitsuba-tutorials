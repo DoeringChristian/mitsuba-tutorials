{
 "cells": [
  {
   "cell_type": "markdown",
   "id": "6817bebd",
   "metadata": {},
   "source": [
    "# Geometry reconstruction"
   ]
  },
  {
   "cell_type": "markdown",
   "id": "fac13a8f",
   "metadata": {},
   "source": [
    "## Overview\n",
    "One goal with Differentiable Rendering is the reconstruction of geometry.\n",
    "In this tutorial we will implement one way to reconstruct the shape of an object from a single image.\n",
    "\n",
    "The object pose estimation tutorial showed how to infer the pose of an object\n",
    "using differentiable rendering.\n",
    "In that tutorial the issue of differentiating with respect to the position of\n",
    "discontinuities was addressed using reparameterization.\n",
    "However, applying this approach directly to shape reconstruction yields incorrect results.\n",
    "The problem is that gradients from discontinuities are stronger at the silhouette of the object.\n",
    "This results in large gradients at the outermost vertices.\n",
    "When optimizing, these vertices are then moved further than their counterparts inside the silhouette.\n",
    "After a number of optimization steps this leads to self intersections, which\n",
    "makes the mesh practically unusable.\n",
    "To address these problems, a number of approaches have been invented.\n",
    "One of them was described in the paper \"Large Steps in Inverse Rendering of Geometry\" \n",
    "<cite data-cite = \"Nicolet2021Large\"> Nicolet et al. (2021)</cite>.\n",
    "We will use a reparameterized coordinates to represent the vertex coordinates\n",
    "in a way that allows for smooth inference of the shape.\n",
    "<!-- TODO: You will learn... -->"
   ]
  },
  {
   "cell_type": "markdown",
   "id": "04c226b8",
   "metadata": {},
   "source": [
    "## Setup\n",
    "As always, we need to import `drjit` and `mitsuba` and set the CUDA AD-aware variant."
   ]
  },
  {
   "cell_type": "code",
   "execution_count": 1,
   "id": "228385c0",
   "metadata": {
    "lines_to_next_cell": 0
   },
   "outputs": [
    {
     "name": "stdout",
     "output_type": "stream",
     "text": [
      "\u001b[93m[mitsuba] Warning: Couldn't import the ipywidgets package. Installing this package is required for the system to properly log messages and print in Jupyter notebooks!\n"
     ]
    }
   ],
   "source": [
    "import drjit as dr\n",
    "import mitsuba as mi\n",
    "\n",
    "mi.set_variant(\"cuda_ad_rgb\")"
   ]
  },
  {
   "cell_type": "markdown",
   "id": "191559fb",
   "metadata": {},
   "source": []
  }
 ],
 "metadata": {
  "jupytext": {
   "formats": "ipynb,md"
  },
  "kernelspec": {
   "display_name": "Python 3 (ipykernel)",
   "language": "python",
   "name": "python3"
  },
  "language_info": {
   "codemirror_mode": {
    "name": "ipython",
    "version": 3
   },
   "file_extension": ".py",
   "mimetype": "text/x-python",
   "name": "python",
   "nbconvert_exporter": "python",
   "pygments_lexer": "ipython3",
   "version": "3.10.10"
  }
 },
 "nbformat": 4,
 "nbformat_minor": 5
}
